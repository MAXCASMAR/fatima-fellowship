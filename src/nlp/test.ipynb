{
 "cells": [
  {
   "cell_type": "code",
   "execution_count": 1,
   "metadata": {},
   "outputs": [
    {
     "name": "stdout",
     "output_type": "stream",
     "text": [
      "Requirement already satisfied: transformers in /usr/local/python/3.10.4/lib/python3.10/site-packages (4.27.2)\n",
      "Requirement already satisfied: scikit-plot in /usr/local/python/3.10.4/lib/python3.10/site-packages (0.3.7)\n",
      "Requirement already satisfied: huggingface-hub<1.0,>=0.11.0 in /usr/local/python/3.10.4/lib/python3.10/site-packages (from transformers) (0.13.3)\n",
      "Requirement already satisfied: packaging>=20.0 in /home/codespace/.local/lib/python3.10/site-packages (from transformers) (23.0)\n",
      "Requirement already satisfied: requests in /home/codespace/.local/lib/python3.10/site-packages (from transformers) (2.28.2)\n",
      "Requirement already satisfied: tqdm>=4.27 in /usr/local/python/3.10.4/lib/python3.10/site-packages (from transformers) (4.65.0)\n",
      "Requirement already satisfied: tokenizers!=0.11.3,<0.14,>=0.11.1 in /usr/local/python/3.10.4/lib/python3.10/site-packages (from transformers) (0.13.2)\n",
      "Requirement already satisfied: numpy>=1.17 in /home/codespace/.local/lib/python3.10/site-packages (from transformers) (1.24.2)\n",
      "Requirement already satisfied: regex!=2019.12.17 in /usr/local/python/3.10.4/lib/python3.10/site-packages (from transformers) (2022.10.31)\n",
      "Requirement already satisfied: filelock in /usr/local/python/3.10.4/lib/python3.10/site-packages (from transformers) (3.10.0)\n",
      "Requirement already satisfied: pyyaml>=5.1 in /home/codespace/.local/lib/python3.10/site-packages (from transformers) (6.0)\n",
      "Requirement already satisfied: scikit-learn>=0.18 in /home/codespace/.local/lib/python3.10/site-packages (from scikit-plot) (1.2.2)\n",
      "Requirement already satisfied: scipy>=0.9 in /home/codespace/.local/lib/python3.10/site-packages (from scikit-plot) (1.10.1)\n",
      "Requirement already satisfied: joblib>=0.10 in /home/codespace/.local/lib/python3.10/site-packages (from scikit-plot) (1.2.0)\n",
      "Requirement already satisfied: matplotlib>=1.4.0 in /home/codespace/.local/lib/python3.10/site-packages (from scikit-plot) (3.7.1)\n",
      "Requirement already satisfied: typing-extensions>=3.7.4.3 in /home/codespace/.local/lib/python3.10/site-packages (from huggingface-hub<1.0,>=0.11.0->transformers) (4.5.0)\n",
      "Requirement already satisfied: cycler>=0.10 in /home/codespace/.local/lib/python3.10/site-packages (from matplotlib>=1.4.0->scikit-plot) (0.11.0)\n",
      "Requirement already satisfied: fonttools>=4.22.0 in /home/codespace/.local/lib/python3.10/site-packages (from matplotlib>=1.4.0->scikit-plot) (4.39.0)\n",
      "Requirement already satisfied: pyparsing>=2.3.1 in /home/codespace/.local/lib/python3.10/site-packages (from matplotlib>=1.4.0->scikit-plot) (3.0.9)\n",
      "Requirement already satisfied: contourpy>=1.0.1 in /home/codespace/.local/lib/python3.10/site-packages (from matplotlib>=1.4.0->scikit-plot) (1.0.7)\n",
      "Requirement already satisfied: kiwisolver>=1.0.1 in /home/codespace/.local/lib/python3.10/site-packages (from matplotlib>=1.4.0->scikit-plot) (1.4.4)\n",
      "Requirement already satisfied: python-dateutil>=2.7 in /home/codespace/.local/lib/python3.10/site-packages (from matplotlib>=1.4.0->scikit-plot) (2.8.2)\n",
      "Requirement already satisfied: pillow>=6.2.0 in /home/codespace/.local/lib/python3.10/site-packages (from matplotlib>=1.4.0->scikit-plot) (9.4.0)\n",
      "Requirement already satisfied: threadpoolctl>=2.0.0 in /home/codespace/.local/lib/python3.10/site-packages (from scikit-learn>=0.18->scikit-plot) (3.1.0)\n",
      "Requirement already satisfied: idna<4,>=2.5 in /home/codespace/.local/lib/python3.10/site-packages (from requests->transformers) (3.4)\n",
      "Requirement already satisfied: charset-normalizer<4,>=2 in /home/codespace/.local/lib/python3.10/site-packages (from requests->transformers) (3.1.0)\n",
      "Requirement already satisfied: urllib3<1.27,>=1.21.1 in /home/codespace/.local/lib/python3.10/site-packages (from requests->transformers) (1.26.15)\n",
      "Requirement already satisfied: certifi>=2017.4.17 in /home/codespace/.local/lib/python3.10/site-packages (from requests->transformers) (2022.12.7)\n",
      "Requirement already satisfied: six>=1.5 in /home/codespace/.local/lib/python3.10/site-packages (from python-dateutil>=2.7->matplotlib>=1.4.0->scikit-plot) (1.16.0)\n"
     ]
    }
   ],
   "source": [
    "!pip install transformers scikit-plot"
   ]
  },
  {
   "cell_type": "code",
   "execution_count": 2,
   "metadata": {},
   "outputs": [
    {
     "name": "stderr",
     "output_type": "stream",
     "text": [
      "/home/codespace/.python/current/lib/python3.10/site-packages/tqdm/auto.py:21: TqdmWarning: IProgress not found. Please update jupyter and ipywidgets. See https://ipywidgets.readthedocs.io/en/stable/user_install.html\n",
      "  from .autonotebook import tqdm as notebook_tqdm\n"
     ]
    }
   ],
   "source": [
    "import os\n",
    "import time\n",
    "import random\n",
    "import string\n",
    "import re\n",
    "\n",
    "import numpy as np\n",
    "import pandas as pd\n",
    "\n",
    "import torch\n",
    "import torch.nn as nn\n",
    "import torch.nn.functional as F\n",
    "import torch.optim as optim\n",
    "from torch.utils.data import Dataset, DataLoader\n",
    "from torch.optim import lr_scheduler\n",
    "\n",
    "from tqdm import tqdm\n",
    "\n",
    "from sklearn.metrics import mean_squared_error\n",
    "from sklearn.model_selection import StratifiedKFold, KFold\n",
    "from sklearn.metrics import roc_curve\n",
    "import scikitplot as skplt\n",
    "\n",
    "from transformers import AutoTokenizer, AutoModel, AdamW\n",
    "from transformers import AutoConfig\n",
    "from transformers import get_scheduler\n",
    "\n",
    "import matplotlib.pyplot as plt\n"
   ]
  },
  {
   "attachments": {},
   "cell_type": "markdown",
   "metadata": {},
   "source": [
    "## Import data\n"
   ]
  },
  {
   "cell_type": "code",
   "execution_count": 3,
   "metadata": {},
   "outputs": [],
   "source": [
    "# Define paths\n",
    "fake_path = \"/workspaces/fatima-fellowship/src/nlp/data/Fake.csv\"\n",
    "true_path = \"/workspaces/fatima-fellowship/src/nlp/data/True.csv\"\n",
    "\n",
    "# Create dataframes\n",
    "fake_df = pd.read_csv(fake_path)\n",
    "true_df = pd.read_csv(true_path)"
   ]
  },
  {
   "attachments": {},
   "cell_type": "markdown",
   "metadata": {},
   "source": [
    "# Manipulate data\n"
   ]
  },
  {
   "cell_type": "code",
   "execution_count": 4,
   "metadata": {},
   "outputs": [],
   "source": [
    "# Add labels\n",
    "fake_df['label'] = 0\n",
    "true_df['label'] = 1\n",
    "\n",
    "# Concatenate dataframes\n",
    "df = pd.concat([fake_df, true_df], axis=0)\n",
    "\n",
    "# Drop duplicates and na\n",
    "df.drop_duplicates(inplace=True)\n",
    "df.dropna(inplace=True)"
   ]
  },
  {
   "attachments": {},
   "cell_type": "markdown",
   "metadata": {},
   "source": [
    "# Explore data\n"
   ]
  },
  {
   "cell_type": "code",
   "execution_count": 8,
   "metadata": {},
   "outputs": [
    {
     "name": "stdout",
     "output_type": "stream",
     "text": [
      "<class 'pandas.core.frame.DataFrame'>\n",
      "Int64Index: 44689 entries, 0 to 21416\n",
      "Data columns (total 5 columns):\n",
      " #   Column   Non-Null Count  Dtype \n",
      "---  ------   --------------  ----- \n",
      " 0   title    44689 non-null  object\n",
      " 1   text     44689 non-null  object\n",
      " 2   subject  44689 non-null  object\n",
      " 3   date     44689 non-null  object\n",
      " 4   label    44689 non-null  int64 \n",
      "dtypes: int64(1), object(4)\n",
      "memory usage: 2.0+ MB\n"
     ]
    }
   ],
   "source": [
    "# Explore data types\n",
    "df.info()"
   ]
  },
  {
   "cell_type": "code",
   "execution_count": 14,
   "metadata": {},
   "outputs": [
    {
     "data": {
      "text/plain": [
       "0        December 31, 2017\n",
       "1        December 31, 2017\n",
       "2        December 30, 2017\n",
       "3        December 29, 2017\n",
       "4        December 25, 2017\n",
       "               ...        \n",
       "21412     August 22, 2017 \n",
       "21413     August 22, 2017 \n",
       "21414     August 22, 2017 \n",
       "21415     August 22, 2017 \n",
       "21416     August 22, 2017 \n",
       "Name: date, Length: 44689, dtype: object"
      ]
     },
     "execution_count": 14,
     "metadata": {},
     "output_type": "execute_result"
    }
   ],
   "source": [
    "df['date']"
   ]
  },
  {
   "cell_type": "code",
   "execution_count": 17,
   "metadata": {},
   "outputs": [
    {
     "data": {
      "text/plain": [
       "array(['2017', '2016', '19-Feb-18', '18-Feb-18', '17-Feb-18', '16-Feb-18',\n",
       "       '15-Feb-18', '14-Feb-18',\n",
       "       'https://100percentfedup.com/served-roy-moore-vietnamletter-veteran-sets-record-straight-honorable-decent-respectable-patriotic-commander-soldier/',\n",
       "       '2015',\n",
       "       'https://100percentfedup.com/video-hillary-asked-about-trump-i-just-want-to-eat-some-pie/',\n",
       "       'https://100percentfedup.com/12-yr-old-black-conservative-whose-video-to-obama-went-viral-do-you-really-love-america-receives-death-threats-from-left/',\n",
       "       'https://fedup.wpengine.com/wp-content/uploads/2015/04/hillarystreetart.jpg',\n",
       "       'https://fedup.wpengine.com/wp-content/uploads/2015/04/entitled.jpg',\n",
       "       '[Video]'], dtype=object)"
      ]
     },
     "execution_count": 17,
     "metadata": {},
     "output_type": "execute_result"
    }
   ],
   "source": [
    "# date column\n",
    "# extract year\n",
    "df['year'] = df['date'].apply(lambda x: str(x).split()[-1])\n",
    "\n",
    "df['year'].unique()"
   ]
  },
  {
   "attachments": {},
   "cell_type": "markdown",
   "metadata": {},
   "source": [
    "In this task, we want to classify the text despite the date of the news, so date is ommited. "
   ]
  },
  {
   "cell_type": "code",
   "execution_count": 20,
   "metadata": {},
   "outputs": [
    {
     "data": {
      "image/png": "[encoded data removed]",
      "text/plain": [
       "<Figure size 1000x500 with 2 Axes>"
      ]
     },
     "metadata": {},
     "output_type": "display_data"
    }
   ],
   "source": [
    "# Explore the title and text columns\n",
    "# Eliminate spaces and punctuation\n",
    "df['title_len'] = df['title'].apply(lambda x: len(re.sub(r'[^\\w\\s]','',x).split()))\n",
    "df['text_len'] = df['text'].apply(lambda x: len(re.sub(r'[^\\w\\s]','',x).split()))\n",
    "\n",
    "# Plot the distribution of the number of words of the title and text columns\n",
    "plt.figure(figsize=(10,5))\n",
    "plt.subplot(1,2,1)\n",
    "plt.hist(df['title_len'], bins=50)\n",
    "plt.title('Title Length Distribution')\n",
    "plt.subplot(1,2,2)\n",
    "plt.hist(df['text_len'], bins=50)\n",
    "plt.title('Text Length Distribution')\n",
    "plt.show()\n",
    "\n"
   ]
  },
  {
   "cell_type": "code",
   "execution_count": 21,
   "metadata": {},
   "outputs": [
    {
     "data": {
      "image/png": "[encoded data removed]",
      "text/plain": [
       "<Figure size 1000x500 with 2 Axes>"
      ]
     },
     "metadata": {},
     "output_type": "display_data"
    }
   ],
   "source": [
    "# Plot the distribution of true and fake news\n",
    "plt.figure(figsize=(10,5))\n",
    "plt.subplot(1,2,1)\n",
    "plt.hist(df[df['label']==0]['title_len'], bins=50)\n",
    "plt.title('Fake News Title Length Distribution')\n",
    "plt.subplot(1,2,2)\n",
    "plt.hist(df[df['label']==1]['title_len'], bins=50)\n",
    "plt.title('True News Title Length Distribution')\n",
    "plt.show()"
   ]
  },
  {
   "cell_type": "code",
   "execution_count": 22,
   "metadata": {},
   "outputs": [
    {
     "data": {
      "image/png": "[encoded data removed]",
      "text/plain": [
       "<Figure size 1000x500 with 2 Axes>"
      ]
     },
     "metadata": {},
     "output_type": "display_data"
    }
   ],
   "source": [
    "# Plot the distribution of true and fake news\n",
    "plt.figure(figsize=(10,5))\n",
    "plt.subplot(1,2,1)\n",
    "plt.hist(df[df['label']==0]['text_len'], bins=50)\n",
    "plt.title('Fake News Text Length Distribution')\n",
    "plt.subplot(1,2,2)\n",
    "plt.hist(df[df['label']==1]['text_len'], bins=50)\n",
    "plt.title('True News Text Length Distribution')\n",
    "plt.show()"
   ]
  },
  {
   "cell_type": "markdown",
   "metadata": {},
   "source": []
  },
  {
   "attachments": {},
   "cell_type": "markdown",
   "metadata": {},
   "source": [
    "# Dataset split"
   ]
  },
  {
   "cell_type": "code",
   "execution_count": 14,
   "metadata": {},
   "outputs": [],
   "source": [
    "# split dataset into train, val and test set\n",
    "train, val, test = np.split(df.sample(frac=1, random_state = 42), [int(.6*len(df)), int(.8*len(df))])"
   ]
  },
  {
   "attachments": {},
   "cell_type": "markdown",
   "metadata": {},
   "source": [
    "# Model"
   ]
  },
  {
   "cell_type": "code",
   "execution_count": 9,
   "metadata": {},
   "outputs": [
    {
     "name": "stderr",
     "output_type": "stream",
     "text": [
      "Downloading (…)okenizer_config.json: 100%|██████████| 28.0/28.0 [00:00<00:00, 16.0kB/s]\n",
      "Downloading (…)lve/main/config.json: 100%|██████████| 570/570 [00:00<00:00, 423kB/s]\n",
      "Downloading (…)solve/main/vocab.txt: 100%|██████████| 232k/232k [00:00<00:00, 1.36MB/s]\n",
      "Downloading (…)/main/tokenizer.json: 100%|██████████| 466k/466k [00:00<00:00, 2.22MB/s]\n"
     ]
    }
   ],
   "source": [
    "model_name = 'bert-base-uncased'\n",
    "tokenizer = AutoTokenizer.from_pretrained(model_name)"
   ]
  },
  {
   "cell_type": "code",
   "execution_count": 10,
   "metadata": {},
   "outputs": [],
   "source": [
    "class TrainDataset(Dataset):\n",
    "    \n",
    "    def __init__(self, df, tokenizer, max_len):\n",
    "        self.df = df\n",
    "        self.tokenizer = tokenizer\n",
    "        self.max_len = max_len\n",
    "    \n",
    "    def __len__(self):\n",
    "        return len(self.df)\n",
    "\n",
    "    def __getitem__(self, index):\n",
    "        text = self.df.iloc[index]['text']\n",
    "        target = self.df.iloc[index]['label']\n",
    "        encoding = self.tokenizer.encode_plus(\n",
    "            text,\n",
    "            add_special_tokens=True,\n",
    "            max_length=self.max_len,\n",
    "            padding='max_length',\n",
    "            truncation=True,\n",
    "        )\n",
    "        \n",
    "        text_ids = encoding['input_ids']\n",
    "        text_mask = encoding['attention_mask']\n",
    "\n",
    "        return {\n",
    "            'text_ids': torch.tensor(text_ids, dtype=torch.long),\n",
    "            'text_mask': torch.tensor(text_mask, dtype=torch.long),\n",
    "            'target': torch.tensor(target, dtype=torch.float)\n",
    "        }"
   ]
  },
  {
   "cell_type": "code",
   "execution_count": 18,
   "metadata": {},
   "outputs": [
    {
     "name": "stderr",
     "output_type": "stream",
     "text": [
      "Downloading pytorch_model.bin: 100%|██████████| 440M/440M [00:02<00:00, 220MB/s] \n",
      "Some weights of the model checkpoint at bert-base-uncased were not used when initializing BertModel: ['cls.predictions.transform.dense.weight', 'cls.predictions.bias', 'cls.predictions.transform.LayerNorm.weight', 'cls.seq_relationship.bias', 'cls.predictions.transform.LayerNorm.bias', 'cls.predictions.decoder.weight', 'cls.seq_relationship.weight', 'cls.predictions.transform.dense.bias']\n",
      "- This IS expected if you are initializing BertModel from the checkpoint of a model trained on another task or with another architecture (e.g. initializing a BertForSequenceClassification model from a BertForPreTraining model).\n",
      "- This IS NOT expected if you are initializing BertModel from the checkpoint of a model that you expect to be exactly identical (initializing a BertForSequenceClassification model from a BertForSequenceClassification model).\n"
     ]
    },
    {
     "ename": "",
     "evalue": "",
     "output_type": "error",
     "traceback": [
      "\u001b[1;31mThe Kernel crashed while executing code in the the current cell or a previous cell. Please review the code in the cell(s) to identify a possible cause of the failure. Click <a href='https://aka.ms/vscodeJupyterKernelCrash'>here</a> for more info. View Jupyter <a href='command:jupyter.viewOutput'>log</a> for further details."
     ]
    }
   ],
   "source": [
    "class FakeNewsClassifier(nn.Module):\n",
    "\n",
    "    def __init__(self, model, num_classes=2):\n",
    "        super().__init__()\n",
    "        self.model = model\n",
    "        self.embbeding_dim = self.model.config.hidden_size\n",
    "        self.num_classes = num_classes\n",
    "        self.dropout = nn.Dropout(0.1)  # dropout layer to prevent overfitting\n",
    "        self.fc = nn.Linear(self.embedding_dim, self.num_classes)\n",
    "\n",
    "    def forwward(self, text_ids, text_mask):\n",
    "        outputs = self.model(text_ids, attention_mask=text_mask)\n",
    "        hidden_state = outputs.last_hidden_state\n",
    "        pooled_output = hidden_state[:, 0] # get the [CLS] token representation\n",
    "\n",
    "    \n",
    "    def __init__(self, model_name, num_classes=2):\n",
    "        super().__init__()\n",
    "        \n",
    "        self.bert = AutoModel.from_pretrained(model_name)\n",
    "        self.dropout = nn.Dropout(0.1)  # dropout layer to prevent overfitting\n",
    "        embedding_dim = self.bert.config.hidden_size\n",
    "        self.fc = nn.Linear(embedding_dim, num_classes)\n",
    "    \n",
    "    def forward(self, text_ids, text_mask):\n",
    "        outputs = self.bert(text_ids, attention_mask=text_mask)\n",
    "        hidden_state = outputs.last_hidden_state\n",
    "        pooled_output = hidden_state[:, 0]  # get the [CLS] token representation\n",
    "        pooled_output = self.dropout(pooled_output)\n",
    "        logits = self.fc(pooled_output)\n",
    "        return logits"
   ]
  },
  {
   "cell_type": "code",
   "execution_count": 12,
   "metadata": {},
   "outputs": [],
   "source": [
    "import torch\n",
    "from torch.utils.data import DataLoader\n",
    "from tqdm import tqdm\n",
    "\n",
    "def train_one_epoch(model, optimizer, scheduler, dataloader, device, epoch):\n",
    "    model.train()\n",
    "    epoch_loss = 0.0\n",
    "\n",
    "    loss_function = torch.nn.CrossEntropyLoss()\n",
    "    \n",
    "    progress_bar = tqdm(enumerate(dataloader), total=len(dataloader), desc=f\"Training Epoch {epoch}\")\n",
    "    \n",
    "    for step, batch in progress_bar:\n",
    "        text_ids = batch['text_ids'].to(device)\n",
    "        text_mask = batch['text_mask'].to(device)\n",
    "        targets = batch['target'].to(device).long()\n",
    "        \n",
    "        optimizer.zero_grad()\n",
    "        \n",
    "        logits = model(text_ids, text_mask)\n",
    "        loss = loss_function(logits, targets)\n",
    "        \n",
    "        loss.backward()\n",
    "        optimizer.step()\n",
    "        scheduler.step()\n",
    "        \n",
    "        epoch_loss += loss.item()\n",
    "        progress_bar.set_postfix({'Epoch Loss': epoch_loss / (step + 1)})\n",
    "    \n",
    "    return epoch_loss / len(dataloader)\n",
    "\n",
    "\n",
    "@torch.no_grad()\n",
    "def valid_one_epoch(model, dataloader, device, epoch):\n",
    "    model.eval()\n",
    "    epoch_loss = 0.0\n",
    "    loss_function = torch.nn.CrossEntropyLoss()\n",
    "    \n",
    "    progress_bar = tqdm(enumerate(dataloader), total=len(dataloader), desc=f\"Validating Epoch {epoch}\")\n",
    "    \n",
    "    with torch.no_grad():\n",
    "        for step, batch in progress_bar:\n",
    "            text_ids = batch['text_ids'].to(device)\n",
    "            text_mask = batch['text_mask'].to(device)\n",
    "            targets = batch['target'].to(device).long()\n",
    "            \n",
    "            logits = model(text_ids, text_mask)\n",
    "            loss = loss_function(logits, targets)\n",
    "            \n",
    "            epoch_loss += loss.item()\n",
    "            progress_bar.set_postfix({'Epoch Loss': epoch_loss / (step + 1)})\n",
    "    \n",
    "    return epoch_loss / len(dataloader)"
   ]
  },
  {
   "cell_type": "code",
   "execution_count": 13,
   "metadata": {},
   "outputs": [],
   "source": [
    "import time\n",
    "import copy\n",
    "from torch.utils.data import DataLoader\n",
    "\n",
    "def run_training(model, optimizer, scheduler, train_dataloader, valid_dataloader, device, num_epochs, PATH='best_model.pth'):\n",
    "    history = {'Train loss': [], 'Valid loss': []}\n",
    "    best_model = None\n",
    "    best_epoch_loss = float('inf')\n",
    "    \n",
    "    start_time = time.time()\n",
    "\n",
    "    for epoch in range(num_epochs):\n",
    "        train_epoch_loss = train_one_epoch(model, optimizer, scheduler, train_dataloader, device, epoch)\n",
    "        valid_epoch_loss = valid_one_epoch(model, valid_dataloader, device, epoch)\n",
    "        \n",
    "        history['Train loss'].append(train_epoch_loss)\n",
    "        history['Valid loss'].append(valid_epoch_loss)\n",
    "        \n",
    "        if valid_epoch_loss < best_epoch_loss:\n",
    "            best_epoch_loss = valid_epoch_loss\n",
    "            best_model = copy.deepcopy(model.state_dict())\n",
    "            torch.save(best_model, PATH)\n",
    "    \n",
    "    end_time = time.time()\n",
    "    elapsed_time = end_time - start_time\n",
    "    print(f\"Training complete in {elapsed_time // 60:.0f}m {elapsed_time % 60:.0f}s\")\n",
    "    print(f\"Best Validation Loss: {best_epoch_loss:.4f}\")\n",
    "    \n",
    "    model.load_state_dict(best_model)\n",
    "    return model, history"
   ]
  },
  {
   "cell_type": "code",
   "execution_count": 16,
   "metadata": {},
   "outputs": [],
   "source": [
    "import torch.optim.lr_scheduler as lr_scheduler\n",
    "\n",
    "def create_scheduler(optimizer, num_epochs, num_training_steps):\n",
    "    return lr_scheduler.CosineAnnealingLR(optimizer, T_max=num_epochs * num_training_steps)"
   ]
  },
  {
   "cell_type": "code",
   "execution_count": 17,
   "metadata": {},
   "outputs": [
    {
     "ename": "NameError",
     "evalue": "name 'FakeNewsClassifier' is not defined",
     "output_type": "error",
     "traceback": [
      "\u001b[0;31m---------------------------------------------------------------------------\u001b[0m",
      "\u001b[0;31mNameError\u001b[0m                                 Traceback (most recent call last)",
      "Cell \u001b[0;32mIn[17], line 12\u001b[0m\n\u001b[1;32m      9\u001b[0m valid_dataloader \u001b[39m=\u001b[39m DataLoader(valid_dataset, batch_size\u001b[39m=\u001b[39m\u001b[39m64\u001b[39m, shuffle\u001b[39m=\u001b[39m\u001b[39mFalse\u001b[39;00m, num_workers\u001b[39m=\u001b[39m\u001b[39m2\u001b[39m)\n\u001b[1;32m     11\u001b[0m \u001b[39m# Model\u001b[39;00m\n\u001b[0;32m---> 12\u001b[0m model \u001b[39m=\u001b[39m FakeNewsClassifier(model_name)\n\u001b[1;32m     13\u001b[0m model\u001b[39m.\u001b[39mto(device)\n\u001b[1;32m     14\u001b[0m torch\u001b[39m.\u001b[39mcuda\u001b[39m.\u001b[39mempty_cache()\n",
      "\u001b[0;31mNameError\u001b[0m: name 'FakeNewsClassifier' is not defined"
     ]
    }
   ],
   "source": [
    "max_len = 256\n",
    "device = torch.device('cuda' if torch.cuda.is_available() else 'cpu')\n",
    "\n",
    "# Dataloaders\n",
    "train_dataset = TrainDataset(train, tokenizer, 256)\n",
    "valid_dataset = TrainDataset(val, tokenizer, 256)\n",
    "\n",
    "train_dataloader = DataLoader(train_dataset, batch_size=32, shuffle=True, num_workers=2)\n",
    "valid_dataloader = DataLoader(valid_dataset, batch_size=64, shuffle=False, num_workers=2)\n",
    "\n",
    "# Model\n",
    "#model = FakeNewsClassifier(model_name)\n",
    "model.to(device)\n",
    "torch.cuda.empty_cache()\n",
    "\n",
    "# Optimizer\n",
    "# Hyperparameters\n",
    "max_len = 256\n",
    "batch_size = 16\n",
    "num_epochs = 3\n",
    "learning_rate = 2e-5\n",
    "warmup_proportion = 0.1\n",
    "\n",
    "optimizer = optim.AdamW(model.parameters(), lr=learning_rate)\n",
    "\n",
    "# Create the scheduler\n",
    "scheduler = create_scheduler(optimizer, num_epochs, len(train_dataloader))\n",
    "\n",
    "# Run training\n",
    "model, history = run_training(model, optimizer, scheduler, train_dataloader, valid_dataloader, device, num_epochs)\n",
    "\n",
    "\n",
    "\n"
   ]
  },
  {
   "cell_type": "code",
   "execution_count": null,
   "metadata": {},
   "outputs": [],
   "source": []
  }
 ],
 "metadata": {
  "kernelspec": {
   "display_name": "Python 3",
   "language": "python",
   "name": "python3"
  },
  "language_info": {
   "codemirror_mode": {
    "name": "ipython",
    "version": 3
   },
   "file_extension": ".py",
   "mimetype": "text/x-python",
   "name": "python",
   "nbconvert_exporter": "python",
   "pygments_lexer": "ipython3",
   "version": "3.10.4"
  },
  "orig_nbformat": 4
 },
 "nbformat": 4,
 "nbformat_minor": 2
}
